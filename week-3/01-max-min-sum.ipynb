{
 "cells": [
  {
   "cell_type": "markdown",
   "metadata": {},
   "source": [
    "Exercise 1: Finding the Maximum Value in a List\n",
    "**Objective:** Find the maximum value in a list without using built-in functions.\n",
    "\n",
    "- **Instructions:**\n",
    "  - Initialize `max_value` with the first element.\n",
    "  - Loop through each number in the list starting from the second element.\n",
    "  - If the current number is greater than `max_value`, update `max_value`.\n",
    "  - After processing all elements, print the maximum value.\n"
   ]
  },
  {
   "cell_type": "markdown",
   "metadata": {},
   "source": [
    "1. You have a list.\n",
    "2. There are built-in functions to find maximum in a list\n",
    "3. You are to find maximun without using these functions\n"
   ]
  },
  {
   "cell_type": "code",
   "execution_count": 18,
   "metadata": {},
   "outputs": [],
   "source": [
    "list = [10,20,30,23,82,18,9,89, 73, 81, 10]"
   ]
  },
  {
   "cell_type": "code",
   "execution_count": null,
   "metadata": {},
   "outputs": [
    {
     "name": "stdout",
     "output_type": "stream",
     "text": [
      "90\n"
     ]
    }
   ],
   "source": [
    "# Max\n",
    "max_value = max(list)\n",
    "\n",
    "print(max_value)"
   ]
  },
  {
   "cell_type": "code",
   "execution_count": null,
   "metadata": {},
   "outputs": [
    {
     "name": "stdout",
     "output_type": "stream",
     "text": [
      "10\n"
     ]
    }
   ],
   "source": [
    "# Min\n",
    "min_value = min(list)\n",
    "\n",
    "print(min_value)"
   ]
  },
  {
   "cell_type": "code",
   "execution_count": 16,
   "metadata": {},
   "outputs": [
    {
     "name": "stdout",
     "output_type": "stream",
     "text": [
      "39.0\n"
     ]
    }
   ],
   "source": [
    "avg_value = sum(list) / len(list)\n",
    "print(avg_value)"
   ]
  },
  {
   "cell_type": "code",
   "execution_count": null,
   "metadata": {},
   "outputs": [
    {
     "name": "stdout",
     "output_type": "stream",
     "text": [
      "comparing 10  and  20\n",
      "comparing 20  and  30\n",
      "comparing 30  and  23\n",
      "comparing 30  and  82\n",
      "comparing 82  and  18\n",
      "comparing 82  and  9\n",
      "comparing 82  and  89\n",
      "comparing 89  and  73\n",
      "comparing 89  and  81\n",
      "comparing 89  and  10\n"
     ]
    }
   ],
   "source": [
    "max_value = list[0]\n",
    "print(max_value)\n",
    "\n",
    "for x in range(1, len(list)):\n",
    "    print(\"comparing\", max_value, \" and \", list[x])\n",
    "    if list[x] > max_value:\n",
    "        max_value = list[x]\n",
    "\n",
    "print(max_value)"
   ]
  },
  {
   "cell_type": "code",
   "execution_count": null,
   "metadata": {},
   "outputs": [
    {
     "name": "stdout",
     "output_type": "stream",
     "text": [
      "9\n"
     ]
    }
   ],
   "source": [
    "min_value = list[0]\n",
    "print(min_value)\n",
    "\n",
    "for x in range(1, len(list)):\n",
    "    print(\"comparing\", min_value, \" and \", list[x])\n",
    "    if list[x] < min_value:\n",
    "        min_value = list[x]\n",
    "\n",
    "print(min_value)"
   ]
  },
  {
   "cell_type": "code",
   "execution_count": 19,
   "metadata": {},
   "outputs": [
    {
     "name": "stdout",
     "output_type": "stream",
     "text": [
      "0\n",
      "adding 10  to  0\n",
      "adding 20  to  10\n",
      "adding 30  to  30\n",
      "adding 23  to  60\n",
      "adding 82  to  83\n",
      "adding 18  to  165\n",
      "adding 9  to  183\n",
      "adding 89  to  192\n",
      "adding 73  to  281\n",
      "adding 81  to  354\n",
      "adding 10  to  435\n",
      "445\n",
      "40.45454545454545\n"
     ]
    }
   ],
   "source": [
    "sum = 0\n",
    "print(sum)\n",
    "\n",
    "for x in range(0, len(list)):\n",
    "    print(\"adding\", list[x], \" to \", sum)\n",
    "    sum += list[x]\n",
    "\n",
    "print(sum)\n",
    "\n",
    "avg_value = sum / len(list)\n",
    "print(avg_value)"
   ]
  }
 ],
 "metadata": {
  "kernelspec": {
   "display_name": ".venv",
   "language": "python",
   "name": "python3"
  },
  "language_info": {
   "codemirror_mode": {
    "name": "ipython",
    "version": 3
   },
   "file_extension": ".py",
   "mimetype": "text/x-python",
   "name": "python",
   "nbconvert_exporter": "python",
   "pygments_lexer": "ipython3",
   "version": "3.12.3"
  }
 },
 "nbformat": 4,
 "nbformat_minor": 2
}
