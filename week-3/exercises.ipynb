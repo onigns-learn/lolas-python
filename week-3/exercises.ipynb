{
 "cells": [
  {
   "cell_type": "markdown",
   "metadata": {},
   "source": [
    "# Python Exercises: Loops and Conditionals\n",
    "---\n",
    "\n",
    "This notebook contains exercises designed to help you practice loops and conditionals in Python."
   ]
  },
  {
   "cell_type": "markdown",
   "metadata": {},
   "source": [
    "## Exercise 1: Finding the Maximum Value in a List\n",
    "**Objective:** Find the maximum value in a list without using built-in functions.\n",
    "\n",
    "**Instructions:**\n",
    "- Initialize `max_value` with the first element.\n",
    "- Loop through each number starting from the second element.\n",
    "- Update `max_value` if a larger number is found.\n",
    "- Print the result."
   ]
  },
  {
   "cell_type": "code",
   "execution_count": null,
   "metadata": {},
   "outputs": [],
   "source": [
    "data = [5, 10, 3, 7, 2]\n",
    "max_value = data[0]\n",
    "for num in data[1:]:\n",
    "    if num > max_value:\n",
    "        max_value = num\n",
    "print(\"Maximum value:\", max_value)"
   ]
  },
  {
   "cell_type": "markdown",
   "metadata": {},
   "source": [
    "---\n",
    "\n",
    "## Exercise 2: Calculating the Mean of a Dataset\n",
    "**Objective:** Calculate the mean (average) of a list.\n",
    "\n",
    "**Instructions:**\n",
    "- Sum all elements using a loop.\n",
    "- Divide by the number of elements.\n",
    "- Print the result."
   ]
  },
  {
   "cell_type": "code",
   "execution_count": null,
   "metadata": {},
   "outputs": [],
   "source": [
    "data = [1, 2, 3, 4, 5]\n",
    "total = 0\n",
    "for num in data:\n",
    "    total += num\n",
    "mean = total / len(data)\n",
    "print(\"Mean:\", mean)"
   ]
  },
  {
   "cell_type": "markdown",
   "metadata": {},
   "source": [
    "---\n",
    "\n",
    "## Exercise 3: Categorizing Data by Type\n",
    "**Objective:** Count occurrences of strings and integers in a list.\n",
    "\n",
    "**Instructions:**\n",
    "- Use a dictionary to track counts.\n",
    "- Check type with `isinstance()`.\n",
    "- Print category counts."
   ]
  },
  {
   "cell_type": "code",
   "execution_count": null,
   "metadata": {},
   "outputs": [],
   "source": [
    "data = ['apple', 42, True, None, 'math', 3.14]\n",
    "counts = {'str': 0, 'int': 0}\n",
    "for item in data:\n",
    "    if isinstance(item, str):\n",
    "        counts['str'] += 1\n",
    "    elif isinstance(item, int):\n",
    "        counts['int'] += 1\n",
    "print(\"Counts:\", counts)"
   ]
  },
  {
   "cell_type": "markdown",
   "metadata": {},
   "source": [
    "---\n",
    "\n",
    "## Exercise 4: Extracting Letters from a String\n",
    "**Objective:** Extract only alphabetic characters from a string.\n",
    "\n",
    "**Instructions:**\n",
    "- Check each character with `.isalpha()`.\n",
    "- Collect letters in a list.\n",
    "- Print the result."
   ]
  },
  {
   "cell_type": "code",
   "execution_count": null,
   "metadata": {},
   "outputs": [],
   "source": [
    "# Exercise 4 Solution\n",
    "s = \"Hello, World! This is a test.\"\n",
    "letters = []\n",
    "for char in s:\n",
    "    if char.isalpha():\n",
    "        letters.append(char)\n",
    "print(\"Letters:\", ''.join(letters))"
   ]
  },
  {
   "cell_type": "markdown",
   "metadata": {},
   "source": [
    "---\n",
    "\n",
    "## Exercise 5: Identifying Unique Elements\n",
    "**Objective:** Identify unique elements in a list.\n",
    "\n",
    "**Instructions:**\n",
    "- Track seen items with a helper list.\n",
    "- Build unique list during iteration.\n",
    "- Print unique elements."
   ]
  },
  {
   "cell_type": "code",
   "execution_count": null,
   "metadata": {},
   "outputs": [],
   "source": [
    "# Exercise 5 Solution\n",
    "data = [10, 20, 10, 30, 20, 40]\n",
    "seen = []\n",
    "unique = []\n",
    "for num in data:\n",
    "    if num not in seen:\n",
    "        seen.append(num)\n",
    "        unique.append(num)\n",
    "print(\"Unique elements:\", unique)"
   ]
  },
  {
   "cell_type": "markdown",
   "metadata": {},
   "source": [
    "---\n",
    "\n",
    "## Exercise 6: Reversing a String\n",
    "**Objective:** Reverse a string using loops.\n",
    "\n",
    "**Instructions:**\n",
    "- Loop backward through character indices.\n",
    "- Build reversed string.\n",
    "- Print result."
   ]
  },
  {
   "cell_type": "code",
   "execution_count": null,
   "metadata": {},
   "outputs": [],
   "source": [
    "# Exercise 6 Solution\n",
    "s = \"Hello\"\n",
    "reversed_chars = []\n",
    "for i in range(len(s)-1, -1, -1):\n",
    "    reversed_chars.append(s[i])\n",
    "print(\"Reversed string:\", ''.join(reversed_chars))"
   ]
  },
  {
   "cell_type": "markdown",
   "metadata": {},
   "source": [
    "---\n",
    "\n",
    "## Exercise 7: Implementing Bubble Sort\n",
    "**Objective:** Sort a list using bubble sort.\n",
    "\n",
    "**Instructions:**\n",
    "- Use nested loops for pairwise comparisons.\n",
    "- Swap elements when out of order.\n",
    "- Print sorted list."
   ]
  },
  {
   "cell_type": "code",
   "execution_count": null,
   "metadata": {},
   "outputs": [],
   "source": [
    "# Exercise 7 Solution\n",
    "data = [34, 7, 23, 32, 5, 62]\n",
    "n = len(data)\n",
    "for i in range(n):\n",
    "    swapped = False\n",
    "    for j in range(0, n-i-1):\n",
    "        if data[j] > data[j+1]:\n",
    "            data[j], data[j+1] = data[j+1], data[j]\n",
    "            swapped = True\n",
    "    if not swapped:\n",
    "        break\n",
    "print(\"Sorted list:\", data)"
   ]
  },
  {
   "cell_type": "markdown",
   "metadata": {},
   "source": [
    "---\n",
    "\n",
    "## Exercise 8: Counting Value Occurrences\n",
    "**Objective:** Count occurrences of each value in a list.\n",
    "\n",
    "**Instructions:**\n",
    "- Use dictionary to track counts.\n",
    "- Initialize new keys with count=1.\n",
    "- Print final counts."
   ]
  },
  {
   "cell_type": "code",
   "execution_count": null,
   "metadata": {},
   "outputs": [],
   "source": [
    "# Exercise 8 Solution\n",
    "data = [5, 3, 5, 2, 3, 3, 5]\n",
    "counts = {}\n",
    "for num in data:\n",
    "    if num in counts:\n",
    "        counts[num] += 1\n",
    "    else:\n",
    "        counts[num] = 1\n",
    "print(\"Counts:\", counts)"
   ]
  },
  {
   "cell_type": "markdown",
   "metadata": {},
   "source": [
    "---\n",
    "\n",
    "## Exercise 9: Handling Non-Numeric Values\n",
    "**Objective:** Identify non-numeric values in a list.\n",
    "\n",
    "**Instructions:**\n",
    "- Check type using `isinstance()`.\n",
    "- Skip numbers (int/float).\n",
    "- Print other values."
   ]
  },
  {
   "cell_type": "code",
   "execution_count": null,
   "metadata": {},
   "outputs": [],
   "source": [
    "# Exercise 9 Solution\n",
    "data = [10, 'text', True, None, 3.14, {'a': 'b'}, [1,2,3]]\n",
    "for item in data:\n",
    "    if not isinstance(item, (int, float)):\n",
    "        print(\"Non-numeric value:\", item)"
   ]
  },
  {
   "cell_type": "markdown",
   "metadata": {},
   "source": [
    "---\n",
    "\n",
    "## Exercise 10: Combining Two Lists\n",
    "**Objective:** Create pairs from two lists of equal length.\n",
    "\n",
    "**Instructions:**\n",
    "- Use index-based looping.\n",
    "- Create tuple pairs.\n",
    "- Print combined list."
   ]
  },
  {
   "cell_type": "code",
   "execution_count": null,
   "metadata": {},
   "outputs": [],
   "source": [
    "# Exercise 10 Solution\n",
    "list1 = [1, 2, 3]\n",
    "list2 = ['a', 'b', 'c']\n",
    "combined = []\n",
    "for i in range(len(list1)):\n",
    "    combined.append((list1[i], list2[i]))\n",
    "print(\"Combined list:\", combined)"
   ]
  }
 ],
 "metadata": {
  "kernelspec": {
   "display_name": ".venv",
   "language": "python",
   "name": "python3"
  },
  "language_info": {
   "codemirror_mode": {
    "name": "ipython",
    "version": 3
   },
   "file_extension": ".py",
   "mimetype": "text/x-python",
   "name": "python",
   "nbconvert_exporter": "python",
   "pygments_lexer": "ipython3",
   "version": "3.12.3"
  }
 },
 "nbformat": 4,
 "nbformat_minor": 4
}
