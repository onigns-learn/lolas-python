{
 "cells": [
  {
   "cell_type": "markdown",
   "metadata": {},
   "source": [
    "Exercise 3: Categorizing Data by Type\n",
    "**Objective:** Count occurrences of each category (string, integer) in a list.\n",
    "\n",
    "- **Instructions:**\n",
    "  - Initialize an empty dictionary `counts`.\n",
    "  - Loop through each element:\n",
    "    - If it's a string, check if 'str' is a key; increment its count.\n",
    "    - If it's an integer, check if 'int' is a key; increment its count.\n",
    "    - Else, do nothing (for other types).\n",
    "  - Print the counts.\n"
   ]
  },
  {
   "cell_type": "code",
   "execution_count": 15,
   "metadata": {},
   "outputs": [
    {
     "name": "stdout",
     "output_type": "stream",
     "text": [
      "['apple', 10, 'banana', 15, 'cherry', 60, 'date', 40, 'elderberry']\n"
     ]
    }
   ],
   "source": [
    "\n",
    "# a list of item\n",
    "fruits = [\"apple\", 10, \"banana\", 15, \"cherry\", 60,  \"date\", 40,  \"elderberry\"]\n",
    "print(fruits)"
   ]
  },
  {
   "cell_type": "code",
   "execution_count": null,
   "metadata": {},
   "outputs": [
    {
     "name": "stdout",
     "output_type": "stream",
     "text": [
      "['apple', 'banana', 'cherry', 'date', 'elderberry']\n"
     ]
    }
   ],
   "source": [
    "\n",
    "str_only = [x for x in fruits if isinstance(x, str)]\n",
    "print(str_only)\n",
    "print(len(str_only))\n",
    "#9\n"
   ]
  },
  {
   "cell_type": "code",
   "execution_count": null,
   "metadata": {},
   "outputs": [
    {
     "name": "stdout",
     "output_type": "stream",
     "text": [
      "[10, 15, 60, 40]\n"
     ]
    }
   ],
   "source": [
    "int_only = [x for x in fruits if isinstance(x, int)]\n",
    "print(int_only)\n",
    "print(len(int_only))\n",
    "#9\n"
   ]
  },
  {
   "cell_type": "code",
   "execution_count": 5,
   "metadata": {},
   "outputs": [
    {
     "name": "stdout",
     "output_type": "stream",
     "text": [
      "[]\n"
     ]
    }
   ],
   "source": [
    "float_only = [x for x in fruits if isinstance(x, float)]\n",
    "print(float_only)"
   ]
  },
  {
   "cell_type": "code",
   "execution_count": null,
   "metadata": {},
   "outputs": [],
   "source": [
    "str_count = 0\n",
    "int_count = 0\n",
    "float_count = 0\n",
    "\n",
    "for i in range(0, len(fruits)):\n",
    "    if isinstance(fruits[i], str):\n",
    "        str_count = str_count + 1\n",
    "    elif isinstance(fruits[i], int):\n",
    "        int_count = int_count + 1\n"
   ]
  },
  {
   "cell_type": "code",
   "execution_count": 16,
   "metadata": {},
   "outputs": [
    {
     "name": "stdout",
     "output_type": "stream",
     "text": [
      "{'str': 5, 'int': 4}\n"
     ]
    }
   ],
   "source": [
    "counts = {}\n",
    "str_key = \"str\"\n",
    "int_key = \"int\"\n",
    "float_key = \"float\"\n",
    "\n",
    "for i in range(0, len(fruits)):\n",
    "    if isinstance(fruits[i], str):\n",
    "        if str_key in counts:\n",
    "            counts[str_key] += 1\n",
    "        else:\n",
    "             counts[str_key] = 1\n",
    "    elif isinstance(fruits[i], int):\n",
    "        if int_key in counts:\n",
    "            counts[int_key] += 1\n",
    "        else:\n",
    "             counts[int_key] = 1\n",
    "    elif isinstance(fruits[i], float):\n",
    "        if float_key in counts:\n",
    "            counts[float_key] += 1\n",
    "        else:\n",
    "            counts[float_key] = 1\n",
    "\n",
    "print(counts)"
   ]
  },
  {
   "cell_type": "code",
   "execution_count": 17,
   "metadata": {},
   "outputs": [
    {
     "name": "stdout",
     "output_type": "stream",
     "text": [
      "{'str': 5, 'int': 4, 'float': 0}\n"
     ]
    }
   ],
   "source": [
    "counts_2 = {}\n",
    "str_key = \"str\"\n",
    "int_key = \"int\"\n",
    "float_key = \"float\"\n",
    "\n",
    "counts_2[str_key] = 0\n",
    "counts_2[int_key] = 0\n",
    "counts_2[float_key] = 0\n",
    "\n",
    "for i in range(0, len(fruits)):\n",
    "    if isinstance(fruits[i], str):\n",
    "        counts_2[str_key] += 1\n",
    "    elif isinstance(fruits[i], int):\n",
    "        counts_2[int_key] += 1\n",
    "    elif isinstance(fruits[i], float):\n",
    "        counts_2[float_key] += 1\n",
    "\n",
    "print(counts_2)"
   ]
  }
 ],
 "metadata": {
  "kernelspec": {
   "display_name": ".venv",
   "language": "python",
   "name": "python3"
  },
  "language_info": {
   "codemirror_mode": {
    "name": "ipython",
    "version": 3
   },
   "file_extension": ".py",
   "mimetype": "text/x-python",
   "name": "python",
   "nbconvert_exporter": "python",
   "pygments_lexer": "ipython3",
   "version": "3.12.3"
  }
 },
 "nbformat": 4,
 "nbformat_minor": 2
}
